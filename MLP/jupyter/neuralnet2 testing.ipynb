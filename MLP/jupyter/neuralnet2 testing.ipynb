{
 "cells": [
  {
   "cell_type": "code",
   "execution_count": 81,
   "id": "efe8a180",
   "metadata": {},
   "outputs": [],
   "source": [
    "import numpy as np\n",
    "import neuralnet2"
   ]
  },
  {
   "cell_type": "code",
   "execution_count": 82,
   "id": "8df63d33",
   "metadata": {},
   "outputs": [],
   "source": [
    "nn = neuralnet2.MLP_NeuralNet(n_hidden=100,\n",
    "                   l2=0.01,\n",
    "                   n_epochs=2,\n",
    "                   eta=0.0005,\n",
    "                   minibatch_size=100,\n",
    "                   shuffle=True, seed=1)"
   ]
  },
  {
   "cell_type": "code",
   "execution_count": 83,
   "id": "de6a8869",
   "metadata": {},
   "outputs": [],
   "source": [
    "dataset = np.load('dataset/mnist_scaled.npz')\n",
    "X_train, y_train, X_test, y_test = [dataset[f] for f in ['X_train', 'y_train', 'X_test', 'y_test']]"
   ]
  },
  {
   "cell_type": "code",
   "execution_count": 84,
   "id": "caba6e0a",
   "metadata": {},
   "outputs": [],
   "source": [
    "nn.fit(X_train=X_train[:55000], \n",
    "       y_train=y_train[:55000],\n",
    "       X_valid=X_train[55000:],\n",
    "       y_valid=y_train[55000:])"
   ]
  },
  {
   "cell_type": "code",
   "execution_count": 86,
   "id": "2ea166f6",
   "metadata": {},
   "outputs": [
    {
     "ename": "AttributeError",
     "evalue": "'MLP_NeuralNet' object has no attribute 'test'",
     "output_type": "error",
     "traceback": [
      "\u001b[0;31m---------------------------------------------------------------------------\u001b[0m",
      "\u001b[0;31mAttributeError\u001b[0m                            Traceback (most recent call last)",
      "\u001b[0;32m/var/folders/q9/v58cdy_x3yl8_9fhj2cn21w80000gn/T/ipykernel_50732/2353634310.py\u001b[0m in \u001b[0;36m<module>\u001b[0;34m\u001b[0m\n\u001b[0;32m----> 1\u001b[0;31m neuralnet2.MLP_NeuralNet(n_hidden=100,\n\u001b[0m\u001b[1;32m      2\u001b[0m                    \u001b[0ml2\u001b[0m\u001b[0;34m=\u001b[0m\u001b[0;36m0.01\u001b[0m\u001b[0;34m,\u001b[0m\u001b[0;34m\u001b[0m\u001b[0;34m\u001b[0m\u001b[0m\n\u001b[1;32m      3\u001b[0m                    \u001b[0mn_epochs\u001b[0m\u001b[0;34m=\u001b[0m\u001b[0;36m2\u001b[0m\u001b[0;34m,\u001b[0m\u001b[0;34m\u001b[0m\u001b[0;34m\u001b[0m\u001b[0m\n\u001b[1;32m      4\u001b[0m                    \u001b[0meta\u001b[0m\u001b[0;34m=\u001b[0m\u001b[0;36m0.0005\u001b[0m\u001b[0;34m,\u001b[0m\u001b[0;34m\u001b[0m\u001b[0;34m\u001b[0m\u001b[0m\n\u001b[1;32m      5\u001b[0m                    \u001b[0mminibatch_size\u001b[0m\u001b[0;34m=\u001b[0m\u001b[0;36m100\u001b[0m\u001b[0;34m,\u001b[0m\u001b[0;34m\u001b[0m\u001b[0;34m\u001b[0m\u001b[0m\n",
      "\u001b[0;31mAttributeError\u001b[0m: 'MLP_NeuralNet' object has no attribute 'test'"
     ]
    }
   ],
   "source": [
    "neuralnet2.MLP_NeuralNet(n_hidden=100,\n",
    "                   l2=0.01,\n",
    "                   n_epochs=2,\n",
    "                   eta=0.0005,\n",
    "                   minibatch_size=100,\n",
    "                   shuffle=True, seed=1).test()"
   ]
  },
  {
   "cell_type": "code",
   "execution_count": null,
   "id": "d441aa1b",
   "metadata": {},
   "outputs": [],
   "source": []
  }
 ],
 "metadata": {
  "kernelspec": {
   "display_name": "Python 3 (ipykernel)",
   "language": "python",
   "name": "python3"
  },
  "language_info": {
   "codemirror_mode": {
    "name": "ipython",
    "version": 3
   },
   "file_extension": ".py",
   "mimetype": "text/x-python",
   "name": "python",
   "nbconvert_exporter": "python",
   "pygments_lexer": "ipython3",
   "version": "3.9.7"
  }
 },
 "nbformat": 4,
 "nbformat_minor": 5
}
